{
 "cells": [
  {
   "attachments": {},
   "cell_type": "markdown",
   "metadata": {},
   "source": [
    "# Basic Loading of the Library"
   ]
  },
  {
   "cell_type": "markdown",
   "metadata": {},
   "source": [
    "**Step 1**: Configure your AI service credentials\n",
    "\n",
    "Use [this notebook](0-AI-settings.ipynb) first, to choose whether to run these notebooks with OpenAI or Azure OpenAI,\n",
    "and to save your credentials in the configuration file."
   ]
  },
  {
   "cell_type": "code",
   "execution_count": 3,
   "metadata": {
    "vscode": {
     "languageId": "polyglot-notebook"
    }
   },
   "outputs": [],
   "source": [
    "// Load some helper functions, e.g. to load values from settings.json\n",
    "#!import config/Settings.cs "
   ]
  },
  {
   "attachments": {},
   "cell_type": "markdown",
   "metadata": {},
   "source": [
    "The Microsoft.AI.Extension can be imported from the following nuget feed:"
   ]
  },
  {
   "cell_type": "code",
   "execution_count": 22,
   "metadata": {
    "dotnet_interactive": {
     "language": "csharp"
    },
    "polyglot_notebook": {
     "kernelName": "csharp"
    },
    "vscode": {
     "languageId": "polyglot-notebook"
    }
   },
   "outputs": [
    {
     "data": {
      "text/html": [
       "<div><div></div><div></div><div><strong>Installed Packages</strong><ul><li><span>Microsoft.Extensions.AI, 9.0.1-preview.1.24570.5</span></li><li><span>Microsoft.Extensions.AI.OpenAI, 9.0.1-preview.1.24570.5</span></li><li><span>microsoft.extensions.caching.abstractions, 9.0.0</span></li><li><span>Microsoft.Extensions.Caching.Memory, 9.0.0</span></li></ul></div></div>"
      ]
     },
     "metadata": {},
     "output_type": "display_data"
    }
   ],
   "source": [
    "#r \"nuget: Microsoft.Extensions.AI.OpenAI, 9.0.1-preview.1.24570.5\"\n",
    "#r \"nuget: Microsoft.Extensions.AI, 9.0.1-preview.1.24570.5\"\n",
    "#r \"nuget: Microsoft.Extensions.Caching.Memory, 9.0.0\"\n",
    "#r \"nuget: Microsoft.Extensions.Caching.Abstractions, 9.0.0\"\n",
    "\n",
    "\n",
    "\n"
   ]
  },
  {
   "attachments": {},
   "cell_type": "markdown",
   "metadata": {},
   "source": [
    "After adding the nuget package, you can instantiate the library, and try to send a prompt:\n"
   ]
  },
  {
   "cell_type": "code",
   "execution_count": 4,
   "metadata": {
    "dotnet_interactive": {
     "language": "csharp"
    },
    "polyglot_notebook": {
     "kernelName": "csharp"
    },
    "vscode": {
     "languageId": "polyglot-notebook"
    }
   },
   "outputs": [
    {
     "name": "stdout",
     "output_type": "stream",
     "text": [
      "Artificial Intelligence (AI) refers to the simulation of human intelligence in machines that are programmed to think and learn like humans. It encompasses a variety of subfields, including machine learning, natural language processing, robotics, computer vision, and more. \n",
      "\n",
      "AI systems can analyze data, recognize patterns, make decisions, and improve their performance over time without being explicitly programmed for every task. There are two main types of AI:\n",
      "\n",
      "1. **Narrow AI (Weak AI)**: This type performs specific tasks and is designed to operate within a limited context. Examples include virtual assistants like Siri or Alexa, recommendation algorithms, and image recognition systems.\n",
      "\n",
      "2. **General AI (Strong AI)**: This type would possess the ability to perform any intellectual task that a human can do, but as of now, it remains a theoretical concept and has not been achieved.\n",
      "\n",
      "AI has applications across many industries, including healthcare, finance, automotive, entertainment, and customer service, and it continues to evolve rapidly, raising questions about ethics, employment, and societal impact.\r\n"
     ]
    }
   ],
   "source": [
    "using Microsoft.Extensions.AI;\n",
    "using OpenAI;\n",
    "\n",
    "// Configure AI service credentials used by the kernel\n",
    "var (useAzureOpenAI, model, azureEndpoint, apiKey, orgId) = Settings.LoadFromFile();\n",
    "\n",
    "IChatClient client =\n",
    "    new OpenAIClient(apiKey)\n",
    "        .AsChatClient(\"gpt-4o-mini\");\n",
    "\n",
    "Console.WriteLine(await client.CompleteAsync(\"What is AI?\"));"
   ]
  },
  {
   "attachments": {},
   "cell_type": "markdown",
   "metadata": {},
   "source": [
    "Now, try using conversation history:"
   ]
  },
  {
   "cell_type": "code",
   "execution_count": 5,
   "metadata": {
    "dotnet_interactive": {
     "language": "csharp"
    },
    "polyglot_notebook": {
     "kernelName": "csharp"
    },
    "vscode": {
     "languageId": "polyglot-notebook"
    }
   },
   "outputs": [
    {
     "name": "stdout",
     "output_type": "stream",
     "text": [
      "Artificial Intelligence (AI) refers to the simulation of human intelligence processes by machines, especially computer systems. AI encompasses a variety of technologies and methods that enable machines to perform tasks that typically require human intelligence. These tasks include:\n",
      "\n",
      "1. **Learning**: The ability to improve performance based on experience, often achieved through machine learning algorithms.\n",
      "2. **Reasoning**: The capability to draw conclusions from given information and make decisions.\n",
      "3. **Problem-Solving**: The ability to find solutions to complex issues or puzzles.\n",
      "4. **Perception**: The ability to interpret sensory information, such as images, sounds, and other data.\n",
      "5. **Natural Language Processing (NLP)**: The capability to understand and generate human language, enabling interaction between humans and machines.\n",
      "\n",
      "AI can be categorized into two main types:\n",
      "\n",
      "- **Narrow AI**: Also known as weak AI, this type is designed for specific tasks, such as image recognition, speech recognition, or playing games. Most existing AI applications fall into this category.\n",
      "  \n",
      "- **General AI**: Also termed strong AI, this type would possess the ability to perform any intellectual task that a human can do, including reasoning, solving problems, and understanding complex ideas. As of now, general AI remains theoretical and has not been achieved.\n",
      "\n",
      "AI has applications across various fields, such as healthcare, finance, transportation, entertainment, and many others, where it helps enhance efficiency, decision-making, and overall quality of services.\r\n"
     ]
    }
   ],
   "source": [
    "Console.WriteLine(await client.CompleteAsync(\n",
    "[\n",
    "    new ChatMessage(ChatRole.System, \"You are a helpful AI assistant\"),\n",
    "    new ChatMessage(ChatRole.User, \"What is AI?\"),\n",
    "]));"
   ]
  },
  {
   "attachments": {},
   "cell_type": "markdown",
   "metadata": {},
   "source": [
    "Now, try using chat streaming:"
   ]
  },
  {
   "cell_type": "code",
   "execution_count": 6,
   "metadata": {
    "vscode": {
     "languageId": "polyglot-notebook"
    }
   },
   "outputs": [
    {
     "name": "stdout",
     "output_type": "stream",
     "text": [
      "Artificial Intelligence (AI) refers to the simulation of human intelligence in machines that are programmed to think and learn like humans. It encompasses a variety of technologies and algorithms that enable computers to perform tasks that typically require human-like cognitive functions, such as understanding natural language, recognizing patterns, solving problems, and making decisions.\n",
      "\n",
      "There are several types of AI, which can be broadly classified into:\n",
      "\n",
      "1. **Narrow AI (Weak AI)**: This refers to AI systems that are designed and trained for specific tasks, such as voice assistants (like Siri or Alexa), recommendation systems, or image recognition software. Narrow AI can perform designated tasks very well but lacks general intelligence or understanding of tasks outside its specific programming.\n",
      "\n",
      "2. **General AI (Strong AI)**: This is a hypothetical form of AI that would possess the ability to understand, learn, and apply intelligence in a way that is indistinguishable from human intelligence across a wide range of tasks. General AI does not currently exist and remains a topic of research and speculation.\n",
      "\n",
      "3. **Superintelligent AI**: This concept refers to AI that surpasses human intelligence across virtually all fields, including creativity, problem-solving, and emotional intelligence. Like general AI, superintelligent AI is theoretical and has not been realized.\n",
      "\n",
      "AI can be implemented using various techniques, including machine learning (where systems learn from data), natural language processing (which allows machines to understand and respond to human language), and computer vision (enabling machines to interpret and understand visual information). AI has applications in numerous fields, including healthcare, finance, transportation, and entertainment, and it continues to evolve rapidly."
     ]
    }
   ],
   "source": [
    "await foreach (var update in client.CompleteStreamingAsync(\"What is AI?\"))\n",
    "{\n",
    "    Console.Write(update);\n",
    "}"
   ]
  },
  {
   "attachments": {},
   "cell_type": "markdown",
   "metadata": {},
   "source": [
    "Function calling:"
   ]
  },
  {
   "cell_type": "code",
   "execution_count": 17,
   "metadata": {
    "vscode": {
     "languageId": "polyglot-notebook"
    }
   },
   "outputs": [
    {
     "ename": "Error",
     "evalue": "System.IO.FileNotFoundException: Could not load file or assembly 'Microsoft.Extensions.Logging.Abstractions, Version=9.0.0.0, Culture=neutral, PublicKeyToken=adb9793829ddae60'. The system cannot find the file specified.\r\nFile name: 'Microsoft.Extensions.Logging.Abstractions, Version=9.0.0.0, Culture=neutral, PublicKeyToken=adb9793829ddae60'\r\n   at Submission#13.<<Initialize>>d__0.MoveNext()\r\n   at System.Runtime.CompilerServices.AsyncMethodBuilderCore.Start[TStateMachine](TStateMachine& stateMachine)\r\n   at Submission#13.<Initialize>()\r\n   at Submission#13.<Factory>(Object[] submissionArray)\r\n   at Microsoft.CodeAnalysis.Scripting.ScriptExecutionState.RunSubmissionsAsync[TResult](ImmutableArray`1 precedingExecutors, Func`2 currentExecutor, StrongBox`1 exceptionHolderOpt, Func`2 catchExceptionOpt, CancellationToken cancellationToken)",
     "output_type": "error",
     "traceback": [
      "System.IO.FileNotFoundException: Could not load file or assembly 'Microsoft.Extensions.Logging.Abstractions, Version=9.0.0.0, Culture=neutral, PublicKeyToken=adb9793829ddae60'. The system cannot find the file specified.\r\n",
      "File name: 'Microsoft.Extensions.Logging.Abstractions, Version=9.0.0.0, Culture=neutral, PublicKeyToken=adb9793829ddae60'\r\n",
      "   at Submission#13.<<Initialize>>d__0.MoveNext()\r\n",
      "   at System.Runtime.CompilerServices.AsyncMethodBuilderCore.Start[TStateMachine](TStateMachine& stateMachine)\r\n",
      "   at Submission#13.<Initialize>()\r\n",
      "   at Submission#13.<Factory>(Object[] submissionArray)\r\n",
      "   at Microsoft.CodeAnalysis.Scripting.ScriptExecutionState.RunSubmissionsAsync[TResult](ImmutableArray`1 precedingExecutors, Func`2 currentExecutor, StrongBox`1 exceptionHolderOpt, Func`2 catchExceptionOpt, CancellationToken cancellationToken)"
     ]
    }
   ],
   "source": [
    "using System.ComponentModel;\n",
    "using Microsoft.Extensions.AI;\n",
    "using OpenAI;\n",
    "\n",
    "// Configure AI service credentials used by the kernel\n",
    "var (useAzureOpenAI, model, azureEndpoint, apiKey, orgId) = Settings.LoadFromFile();\n",
    "\n",
    "IChatClient openaiClient =\n",
    "    new OpenAIClient(apiKey)\n",
    "        .AsChatClient(\"gpt-4o-mini\");\n",
    "\n",
    "var client = new ChatClientBuilder(openaiClient)\n",
    "    .UseFunctionInvocation()\n",
    "    .Build();\n",
    "\n",
    "ChatOptions chatOptions = new()\n",
    "{\n",
    "    Tools = [AIFunctionFactory.Create(GetWeather)]\n",
    "};\n",
    "\n",
    "await foreach (var message in client.CompleteStreamingAsync(\"Do I need an umbrella?\", chatOptions))\n",
    "{\n",
    "    Console.Write(message);\n",
    "}\n",
    "\n",
    "[Description(\"Gets the weather\")]\n",
    "static string GetWeather() => Random.Shared.NextDouble() > 0.5 ? \"It's sunny\" : \"It's raining\";"
   ]
  },
  {
   "cell_type": "markdown",
   "metadata": {},
   "source": [
    "Caching:"
   ]
  },
  {
   "cell_type": "code",
   "execution_count": 24,
   "metadata": {
    "vscode": {
     "languageId": "polyglot-notebook"
    }
   },
   "outputs": [
    {
     "ename": "Error",
     "evalue": "System.IO.FileNotFoundException: Could not load file or assembly 'Microsoft.Extensions.Caching.Abstractions, Version=9.0.0.0, Culture=neutral, PublicKeyToken=adb9793829ddae60'. The system cannot find the file specified.\r\nFile name: 'Microsoft.Extensions.Caching.Abstractions, Version=9.0.0.0, Culture=neutral, PublicKeyToken=adb9793829ddae60'\r\n   at Submission#17.<<Initialize>>d__0.MoveNext()\r\n   at System.Runtime.CompilerServices.AsyncMethodBuilderCore.Start[TStateMachine](TStateMachine& stateMachine)\r\n   at Submission#17.<Initialize>()\r\n   at Submission#17.<Factory>(Object[] submissionArray)\r\n   at Microsoft.CodeAnalysis.Scripting.ScriptExecutionState.RunSubmissionsAsync[TResult](ImmutableArray`1 precedingExecutors, Func`2 currentExecutor, StrongBox`1 exceptionHolderOpt, Func`2 catchExceptionOpt, CancellationToken cancellationToken)",
     "output_type": "error",
     "traceback": [
      "System.IO.FileNotFoundException: Could not load file or assembly 'Microsoft.Extensions.Caching.Abstractions, Version=9.0.0.0, Culture=neutral, PublicKeyToken=adb9793829ddae60'. The system cannot find the file specified.\r\n",
      "File name: 'Microsoft.Extensions.Caching.Abstractions, Version=9.0.0.0, Culture=neutral, PublicKeyToken=adb9793829ddae60'\r\n",
      "   at Submission#17.<<Initialize>>d__0.MoveNext()\r\n",
      "   at System.Runtime.CompilerServices.AsyncMethodBuilderCore.Start[TStateMachine](TStateMachine& stateMachine)\r\n",
      "   at Submission#17.<Initialize>()\r\n",
      "   at Submission#17.<Factory>(Object[] submissionArray)\r\n",
      "   at Microsoft.CodeAnalysis.Scripting.ScriptExecutionState.RunSubmissionsAsync[TResult](ImmutableArray`1 precedingExecutors, Func`2 currentExecutor, StrongBox`1 exceptionHolderOpt, Func`2 catchExceptionOpt, CancellationToken cancellationToken)"
     ]
    }
   ],
   "source": [
    "using Microsoft.Extensions.AI;\n",
    "using Microsoft.Extensions.Caching.Distributed;\n",
    "using Microsoft.Extensions.Caching.Memory;\n",
    "using Microsoft.Extensions.Options;\n",
    "using OpenAI;\n",
    "\n",
    "IDistributedCache cache = new MemoryDistributedCache(Options.Create(new MemoryDistributedCacheOptions()));\n",
    "\n",
    "IChatClient openaiClient =\n",
    "    new OpenAIClient(apiKey)\n",
    "        .AsChatClient(\"gpt-4o-mini\");\n",
    "\n",
    "IChatClient client = new ChatClientBuilder(openaiClient)\n",
    "    .UseDistributedCache(cache)\n",
    "    .Build();\n",
    "\n",
    "for (int i = 0; i < 3; i++)\n",
    "{\n",
    "    await foreach (var message in client.CompleteStreamingAsync(\"In less than 100 words, what is AI?\"))\n",
    "    {\n",
    "        Console.Write(message);\n",
    "    }\n",
    "\n",
    "    Console.WriteLine();\n",
    "    Console.WriteLine();\n",
    "}"
   ]
  }
 ],
 "metadata": {
  "kernelspec": {
   "display_name": ".NET (C#)",
   "language": "C#",
   "name": ".net-csharp"
  },
  "language_info": {
   "file_extension": ".cs",
   "mimetype": "text/x-csharp",
   "name": "C#",
   "pygments_lexer": "csharp",
   "version": "11.0"
  },
  "polyglot_notebook": {
   "kernelInfo": {
    "defaultKernelName": "csharp",
    "items": [
     {
      "aliases": [],
      "name": "csharp"
     }
    ]
   }
  }
 },
 "nbformat": 4,
 "nbformat_minor": 2
}
